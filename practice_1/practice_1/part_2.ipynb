{
 "cells": [
  {
   "cell_type": "markdown",
   "id": "99898df2",
   "metadata": {},
   "source": [
    "# Variable Assignment\n",
    "## Rules for variable names\n",
    "- name can not start with a number\n",
    "- name can not contain spaces, use _ instead\n",
    "- names can not contain any of these symbols:\n",
    "  - :, '\", <>, /, ?, |, \\, !, @, @, %, ^, &, *, ~, -, +\n",
    "- it's considered best practice that names are lowercase with underscores\n",
    "- avoid using Python builr-in keywords like ```list``` and ```str```\n",
    " - avoid using the single characters l (lowercase) letter el), O (uppercase letter oh), and I (uppercase letter eye) as then can be confused with 1 and 0\n",
    "\n",
    "## Dynamic Typing\n",
    "Python uses *dynamic typing*, meaning you can reassign variables to different data types. This makes Python very flexible in assigning data types; it differs from other languages that are *statically typed*."
   ]
  },
  {
   "cell_type": "code",
   "execution_count": 1,
   "id": "ace23d51",
   "metadata": {},
   "outputs": [],
   "source": [
    "my_dogs = 2"
   ]
  },
  {
   "cell_type": "code",
   "execution_count": 2,
   "id": "80eca992",
   "metadata": {},
   "outputs": [
    {
     "data": {
      "text/plain": [
       "2"
      ]
     },
     "execution_count": 2,
     "metadata": {},
     "output_type": "execute_result"
    }
   ],
   "source": [
    "my_dogs"
   ]
  },
  {
   "cell_type": "code",
   "execution_count": 3,
   "id": "610fde0f",
   "metadata": {},
   "outputs": [],
   "source": [
    "my_dogs = ['Sammy', 'Frankie']"
   ]
  },
  {
   "cell_type": "code",
   "execution_count": 4,
   "id": "1420588d",
   "metadata": {},
   "outputs": [
    {
     "data": {
      "text/plain": [
       "['Sammy', 'Frankie']"
      ]
     },
     "execution_count": 4,
     "metadata": {},
     "output_type": "execute_result"
    }
   ],
   "source": [
    "my_dogs"
   ]
  },
  {
   "cell_type": "markdown",
   "id": "6bbb3280",
   "metadata": {},
   "source": [
    "### Pros and Cons of Dynamic Typing\n",
    "#### Pros of Dynamic Typing\n",
    "- very easy to work with\n",
    "- faster development time\n",
    "#### Cons of Dynamic Typing\n",
    "- may results in unexpected bugs!\n",
    "- you need to be aware of ```type()```\n",
    "\n",
    "## Assigning Variables\n",
    "Variable assignment follows ```name = object```, where a single equals sign ```=``` is an *assignment operator*"
   ]
  },
  {
   "cell_type": "code",
   "execution_count": 1,
   "id": "a91a52b7",
   "metadata": {},
   "outputs": [],
   "source": [
    "a = 5"
   ]
  },
  {
   "cell_type": "code",
   "execution_count": 2,
   "id": "e14723ad",
   "metadata": {},
   "outputs": [
    {
     "data": {
      "text/plain": [
       "5"
      ]
     },
     "execution_count": 2,
     "metadata": {},
     "output_type": "execute_result"
    }
   ],
   "source": [
    "a"
   ]
  },
  {
   "cell_type": "markdown",
   "id": "bc096d6a",
   "metadata": {},
   "source": [
    "Here, we assigned the integer object ```5``` to the variable name ```a```.\n",
    "Let's assign ```a``` to something else:"
   ]
  },
  {
   "cell_type": "code",
   "execution_count": 3,
   "id": "a1ef5ce7",
   "metadata": {},
   "outputs": [],
   "source": [
    "a = 10"
   ]
  },
  {
   "cell_type": "code",
   "execution_count": 4,
   "id": "edd2aeec",
   "metadata": {},
   "outputs": [
    {
     "data": {
      "text/plain": [
       "10"
      ]
     },
     "execution_count": 4,
     "metadata": {},
     "output_type": "execute_result"
    }
   ],
   "source": [
    "a"
   ]
  },
  {
   "cell_type": "markdown",
   "id": "c09b76f2",
   "metadata": {},
   "source": [
    "You can now use ```a``` in place of the number ```10```:"
   ]
  },
  {
   "cell_type": "code",
   "execution_count": 5,
   "id": "ef625662",
   "metadata": {},
   "outputs": [
    {
     "data": {
      "text/plain": [
       "20"
      ]
     },
     "execution_count": 5,
     "metadata": {},
     "output_type": "execute_result"
    }
   ],
   "source": [
    "a + a"
   ]
  },
  {
   "cell_type": "markdown",
   "id": "e5b44e9a",
   "metadata": {},
   "source": [
    "## Reassigning Variables\n",
    "Python lets you reassign vaiables with reference to the same object."
   ]
  },
  {
   "cell_type": "code",
   "execution_count": 6,
   "id": "e4ac605a",
   "metadata": {},
   "outputs": [],
   "source": [
    "a = a + 10"
   ]
  },
  {
   "cell_type": "code",
   "execution_count": 7,
   "id": "77897fda",
   "metadata": {},
   "outputs": [
    {
     "data": {
      "text/plain": [
       "20"
      ]
     },
     "execution_count": 7,
     "metadata": {},
     "output_type": "execute_result"
    }
   ],
   "source": [
    "a"
   ]
  },
  {
   "cell_type": "markdown",
   "id": "8542931b",
   "metadata": {},
   "source": [
    "There's actually a shortcut for this. Python lets you add, subtract, multiply and divide numbers with reassignment using ```+=```, ```-=```, ```*=```, and ```/=```."
   ]
  },
  {
   "cell_type": "code",
   "execution_count": 8,
   "id": "5f96f61a",
   "metadata": {},
   "outputs": [],
   "source": [
    "a += 10"
   ]
  },
  {
   "cell_type": "code",
   "execution_count": 9,
   "id": "9cb6300f",
   "metadata": {},
   "outputs": [
    {
     "data": {
      "text/plain": [
       "30"
      ]
     },
     "execution_count": 9,
     "metadata": {},
     "output_type": "execute_result"
    }
   ],
   "source": [
    "a"
   ]
  },
  {
   "cell_type": "code",
   "execution_count": 10,
   "id": "bc57389f",
   "metadata": {},
   "outputs": [],
   "source": [
    "a *= 2"
   ]
  },
  {
   "cell_type": "code",
   "execution_count": 11,
   "id": "0d7cec57",
   "metadata": {},
   "outputs": [
    {
     "data": {
      "text/plain": [
       "60"
      ]
     },
     "execution_count": 11,
     "metadata": {},
     "output_type": "execute_result"
    }
   ],
   "source": [
    "a"
   ]
  },
  {
   "cell_type": "markdown",
   "id": "78d609c2",
   "metadata": {},
   "source": [
    "## Determining variable type with ```type()```\n",
    "You can check what type of object is assigned to a variable using Python's built-in ```type()``` function. Common data types include:\n",
    "- **int** (for integer)\n",
    "- **float**\n",
    "- **str** (for string)\n",
    "- **list**\n",
    "- **tuple**\n",
    "- **dict** (for dictionary)\n",
    "- **set**\n",
    "- **bool** (for Boolean True/False)"
   ]
  },
  {
   "cell_type": "code",
   "execution_count": 12,
   "id": "f2fa1b3a",
   "metadata": {},
   "outputs": [
    {
     "data": {
      "text/plain": [
       "int"
      ]
     },
     "execution_count": 12,
     "metadata": {},
     "output_type": "execute_result"
    }
   ],
   "source": [
    "type(a)"
   ]
  },
  {
   "cell_type": "code",
   "execution_count": 13,
   "id": "60cde299",
   "metadata": {},
   "outputs": [],
   "source": [
    "a = (1,2)"
   ]
  },
  {
   "cell_type": "code",
   "execution_count": 14,
   "id": "0a622e17",
   "metadata": {},
   "outputs": [
    {
     "data": {
      "text/plain": [
       "tuple"
      ]
     },
     "execution_count": 14,
     "metadata": {},
     "output_type": "execute_result"
    }
   ],
   "source": [
    "type(a)"
   ]
  },
  {
   "cell_type": "markdown",
   "id": "25511eaf",
   "metadata": {},
   "source": [
    "## Simple Exercise\n",
    "This shows how variables make calculations more readable and easier to follow."
   ]
  },
  {
   "cell_type": "code",
   "execution_count": 15,
   "id": "53b1dc70",
   "metadata": {},
   "outputs": [],
   "source": [
    "my_income = 100\n",
    "tax_rate = 0.1\n",
    "my_taxes = my_income * tax_rate"
   ]
  },
  {
   "cell_type": "code",
   "execution_count": 16,
   "id": "cd929d80",
   "metadata": {},
   "outputs": [
    {
     "data": {
      "text/plain": [
       "10.0"
      ]
     },
     "execution_count": 16,
     "metadata": {},
     "output_type": "execute_result"
    }
   ],
   "source": [
    "my_taxes"
   ]
  }
 ],
 "metadata": {
  "kernelspec": {
   "display_name": "testenv",
   "language": "python",
   "name": "python3"
  },
  "language_info": {
   "codemirror_mode": {
    "name": "ipython",
    "version": 3
   },
   "file_extension": ".py",
   "mimetype": "text/x-python",
   "name": "python",
   "nbconvert_exporter": "python",
   "pygments_lexer": "ipython3",
   "version": "3.13.5"
  }
 },
 "nbformat": 4,
 "nbformat_minor": 5
}
