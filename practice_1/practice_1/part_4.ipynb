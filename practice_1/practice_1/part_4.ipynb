{
 "cells": [
  {
   "cell_type": "markdown",
   "id": "a82ef152",
   "metadata": {},
   "source": [
    "# String Formatting\n",
    "String formatting lets you inject items into a string rather than trying to chain items together using commas or string concatenation. As quick comparison, consider:\n",
    "   player = 'Thomas'\n",
    "   points = 33\n",
    "\n",
    "   'Last night, '+ player +' scored '+str(points)+' points.' # concatenation\n",
    "   f'Last night, {player} scored {points} points.'           # string formatting\n",
    "\n",
    "There are three ways to perform string formatting.\n",
    "- The oldest method involves placeholders using the modulo ```%``` character.\n",
    "- An improved technique uses the ```.format()``` string method.\n",
    "- The newest method, introduced with Python 3.6, uses formatted string literals, called *f-strings*.\n",
    "\n",
    "## Formatting with placeholders\n",
    "You can use ```%s``` to inject strings into your print statements. The modulo ```%``` is referred to as a \"string formatting operator\"."
   ]
  },
  {
   "cell_type": "code",
   "execution_count": null,
   "id": "2b0fc8ff",
   "metadata": {},
   "outputs": [],
   "source": [
    "print(\"I'm going to inject %s here.\" %'something')"
   ]
  },
  {
   "cell_type": "markdown",
   "id": "81f6bd2c",
   "metadata": {},
   "source": [
    "You can pass multiple items by placing them inside a tuple after the ```%``` operator."
   ]
  },
  {
   "cell_type": "code",
   "execution_count": null,
   "id": "0c9aeb96",
   "metadata": {},
   "outputs": [],
   "source": [
    "print(\"I'm going to inject %s text here, and %s text here.\" %('some','more'))"
   ]
  },
  {
   "cell_type": "markdown",
   "id": "696a9b15",
   "metadata": {},
   "source": [
    "You can also pass variable names:"
   ]
  },
  {
   "cell_type": "code",
   "execution_count": null,
   "id": "fe0a4d47",
   "metadata": {},
   "outputs": [],
   "source": [
    "x, y = 'some', 'more'\n",
    "print(\"I'm going to inject %s text here, and %s text here.\"%(x,y))"
   ]
  },
  {
   "cell_type": "markdown",
   "id": "7665f3f1",
   "metadata": {},
   "source": [
    "## Format converison methods\n",
    "It should be noted that two methods ```%s``` and ```%r``` convert any python object to a string using two separate methods: ```str()``` and ```repr()```. We will learn more about these functions later on in the course, but you should note that ```%r``` and ```repr()``` deliver the *string representation* of the object, including quotation marks and any escape characters."
   ]
  },
  {
   "cell_type": "code",
   "execution_count": null,
   "id": "d673fea9",
   "metadata": {},
   "outputs": [],
   "source": [
    "print('He said his name was %s.' %'Fred')\n",
    "print('He said his name was %r.' %'Fred')"
   ]
  },
  {
   "cell_type": "markdown",
   "id": "f0320f94",
   "metadata": {},
   "source": [
    "As another example, ```\\t``` inserts a tab into a string."
   ]
  },
  {
   "cell_type": "code",
   "execution_count": null,
   "id": "5394aa57",
   "metadata": {},
   "outputs": [],
   "source": [
    "print('I once caught a fish %s' %'this \\tbig')\n",
    "print('I once caught a fish %r' %'this \\tbig')"
   ]
  },
  {
   "cell_type": "markdown",
   "id": "79207fa0",
   "metadata": {},
   "source": [
    "The ``%s`` operator converts whatever it sees into a string, including integers and floats. The ``%d`` operator converts numbers to integers first, without rounding. Note the difference below:"
   ]
  },
  {
   "cell_type": "code",
   "execution_count": null,
   "id": "f5130eaf",
   "metadata": {},
   "outputs": [],
   "source": [
    "print('I wrote %s programs today.' %3.75)\n",
    "print(\"I wrote %d programs today.\" %3.75)"
   ]
  },
  {
   "cell_type": "markdown",
   "id": "fb69b0e8",
   "metadata": {},
   "source": [
    "## Padding and Precision of Floating Point Numbers\n",
    "Floating point numbers use the format ``%5.2f``. Here, ``5`` would be the minimum number of characters the string should contain; these may be padded with whtitespace if the entire number does not have this many digits. Next to this, ``.2f`` stands for how many numbers to show past the decimal point. Let's see some exmamples:"
   ]
  },
  {
   "cell_type": "code",
   "execution_count": null,
   "id": "97f64527",
   "metadata": {},
   "outputs": [],
   "source": []
  }
 ],
 "metadata": {
  "language_info": {
   "name": "python"
  }
 },
 "nbformat": 4,
 "nbformat_minor": 5
}
