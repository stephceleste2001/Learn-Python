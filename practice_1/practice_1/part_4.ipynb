{
 "cells": [
  {
   "cell_type": "markdown",
   "id": "a82ef152",
   "metadata": {},
   "source": [
    "# String Formatting\n",
    "String formatting lets you inject items into a string rather than trying to chain items together using commas or string concatenation. As quick comparison, consider:\n",
    "   player = 'Thomas'\n",
    "   points = 33\n",
    "\n",
    "   'Last night, '+ player +' scored '+str(points)+' points.' # concatenation\n",
    "   f'Last night, {player} scored {points} points.'           # string formatting\n",
    "\n",
    "There are three ways to perform string formatting.\n",
    "- The oldest method involves placeholders using the modulo ```%``` character.\n",
    "- An improved technique uses the ```.format()``` string method.\n",
    "- The newest method, introduced with Python 3.6, uses formatted string literals, called *f-strings*.\n",
    "\n",
    "## Formatting with placeholders\n",
    "You can use ```%s``` to inject strings into your print statements. The modulo ```%``` is referred to as a \"string formatting operator\"."
   ]
  },
  {
   "cell_type": "code",
   "execution_count": null,
   "id": "2b0fc8ff",
   "metadata": {},
   "outputs": [],
   "source": [
    "print(\"I'm going to inject %s here.\" %'something')"
   ]
  },
  {
   "cell_type": "markdown",
   "id": "81f6bd2c",
   "metadata": {},
   "source": [
    "You can pass multiple items by placing them inside a tuple after the ```%``` operator."
   ]
  },
  {
   "cell_type": "code",
   "execution_count": null,
   "id": "0c9aeb96",
   "metadata": {},
   "outputs": [],
   "source": [
    "print(\"I'm going to inject %s text here, and %s text here.\" %('some','more'))"
   ]
  },
  {
   "cell_type": "markdown",
   "id": "696a9b15",
   "metadata": {},
   "source": [
    "You can also pass variable names:"
   ]
  },
  {
   "cell_type": "code",
   "execution_count": null,
   "id": "fe0a4d47",
   "metadata": {},
   "outputs": [],
   "source": [
    "x, y = 'some', 'more'\n",
    "print(\"I'm going to inject %s text here, and %s text here.\"%(x,y))"
   ]
  }
 ],
 "metadata": {
  "language_info": {
   "name": "python"
  }
 },
 "nbformat": 4,
 "nbformat_minor": 5
}
