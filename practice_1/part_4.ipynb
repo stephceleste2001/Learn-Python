{
 "cells": [
  {
   "cell_type": "markdown",
   "id": "a82ef152",
   "metadata": {},
   "source": [
    "# String Formatting\n",
    "String formatting lets you inject items into a string rather than trying to chain items together using commas or string concatenation. As quick comparison, consider:\n",
    "   player = 'Thomas'\n",
    "   points = 33\n",
    "\n",
    "   'Last night, '+ player +' scored '+str(points)+' points.' # concatenation\n",
    "   f'Last night, {player} scored {points} points.'           # string formatting\n",
    "\n",
    "There are three ways to perform string formatting.\n",
    "- The oldest method involves placeholders using the modulo ```%``` character.\n",
    "- An improved technique uses the ```.format()``` string method.\n",
    "- The newest method, introduced with Python 3.6, uses formatted string literals, called *f-strings*.\n",
    "\n",
    "## Formatting with placeholders\n",
    "You can use ```%s``` to inject strings into your print statements. The modulo ```%``` is referred to as a \"string formatting operator\"."
   ]
  },
  {
   "cell_type": "code",
   "execution_count": null,
   "id": "2b0fc8ff",
   "metadata": {},
   "outputs": [],
   "source": [
    "print(\"I'm going to inject %s here.\" %'something')"
   ]
  },
  {
   "cell_type": "markdown",
   "id": "81f6bd2c",
   "metadata": {},
   "source": [
    "You can pass multiple items by placing them inside a tuple after the ```%``` operator."
   ]
  },
  {
   "cell_type": "code",
   "execution_count": null,
   "id": "0c9aeb96",
   "metadata": {},
   "outputs": [],
   "source": [
    "print(\"I'm going to inject %s text here, and %s text here.\" %('some','more'))"
   ]
  },
  {
   "cell_type": "markdown",
   "id": "696a9b15",
   "metadata": {},
   "source": [
    "You can also pass variable names:"
   ]
  },
  {
   "cell_type": "code",
   "execution_count": null,
   "id": "fe0a4d47",
   "metadata": {},
   "outputs": [],
   "source": [
    "x, y = 'some', 'more'\n",
    "print(\"I'm going to inject %s text here, and %s text here.\"%(x,y))"
   ]
  },
  {
   "cell_type": "markdown",
   "id": "7665f3f1",
   "metadata": {},
   "source": [
    "## Format converison methods\n",
    "It should be noted that two methods ```%s``` and ```%r``` convert any python object to a string using two separate methods: ```str()``` and ```repr()```. We will learn more about these functions later on in the course, but you should note that ```%r``` and ```repr()``` deliver the *string representation* of the object, including quotation marks and any escape characters."
   ]
  },
  {
   "cell_type": "code",
   "execution_count": null,
   "id": "d673fea9",
   "metadata": {},
   "outputs": [],
   "source": [
    "print('He said his name was %s.' %'Fred')\n",
    "print('He said his name was %r.' %'Fred')"
   ]
  },
  {
   "cell_type": "markdown",
   "id": "f0320f94",
   "metadata": {},
   "source": [
    "As another example, ```\\t``` inserts a tab into a string."
   ]
  },
  {
   "cell_type": "code",
   "execution_count": null,
   "id": "5394aa57",
   "metadata": {},
   "outputs": [],
   "source": [
    "print('I once caught a fish %s' %'this \\tbig')\n",
    "print('I once caught a fish %r' %'this \\tbig')"
   ]
  },
  {
   "cell_type": "markdown",
   "id": "79207fa0",
   "metadata": {},
   "source": [
    "The ``%s`` operator converts whatever it sees into a string, including integers and floats. The ``%d`` operator converts numbers to integers first, without rounding. Note the difference below:"
   ]
  },
  {
   "cell_type": "code",
   "execution_count": null,
   "id": "f5130eaf",
   "metadata": {},
   "outputs": [],
   "source": [
    "print('I wrote %s programs today.' %3.75)\n",
    "print(\"I wrote %d programs today.\" %3.75)"
   ]
  },
  {
   "cell_type": "markdown",
   "id": "fb69b0e8",
   "metadata": {},
   "source": [
    "## Padding and Precision of Floating Point Numbers\n",
    "Floating point numbers use the format ``%5.2f``. Here, ``5`` would be the minimum number of characters the string should contain; these may be padded with whtitespace if the entire number does not have this many digits. Next to this, ``.2f`` stands for how many numbers to show past the decimal point. Let's see some exmamples:"
   ]
  },
  {
   "cell_type": "code",
   "execution_count": null,
   "id": "97f64527",
   "metadata": {},
   "outputs": [],
   "source": [
    "print('Floating point numbers: %5.2f' %(13.144))"
   ]
  },
  {
   "cell_type": "code",
   "execution_count": null,
   "id": "23d73f37",
   "metadata": {},
   "outputs": [],
   "source": [
    "print('Floating point numbers: %1.0f' %(13.1444))"
   ]
  },
  {
   "cell_type": "code",
   "execution_count": null,
   "id": "6306ab67",
   "metadata": {},
   "outputs": [],
   "source": [
    "print(\"Floating point numbers: %1.5f\" %(13.144))"
   ]
  },
  {
   "cell_type": "code",
   "execution_count": null,
   "id": "f999a221",
   "metadata": {},
   "outputs": [],
   "source": [
    "print('Floating point numbers: %10.2f' %(13.144))"
   ]
  },
  {
   "cell_type": "code",
   "execution_count": null,
   "id": "33f99b71",
   "metadata": {},
   "outputs": [],
   "source": [
    "print('Floating point numbers: %25.2f' %(13.144))"
   ]
  },
  {
   "cell_type": "markdown",
   "id": "f8d9fe38",
   "metadata": {},
   "source": [
    "For more information on string formatting with placeholders visit https://docs.python.org/3/library/stdtypes.html#old-string-formatting"
   ]
  },
  {
   "cell_type": "markdown",
   "id": "ce5045d7",
   "metadata": {},
   "source": [
    "## Multiple Formatting\n",
    "Nothing prohibits using more than one conversion tool in the same print statement:\n",
    "    'String here {} then also {}'.format('something1','something2')\n",
    "For example:"
   ]
  },
  {
   "cell_type": "code",
   "execution_count": null,
   "id": "aa082503",
   "metadata": {},
   "outputs": [],
   "source": [
    "print('This is a string with an {}'.format('insert'))"
   ]
  },
  {
   "cell_type": "markdown",
   "id": "16e4ea22",
   "metadata": {},
   "source": [
    "## The .format() method has several advantages over the %s placeholder method:"
   ]
  },
  {
   "cell_type": "markdown",
   "id": "71baec27",
   "metadata": {},
   "source": [
    "1. Inserted objects can be called by index position:"
   ]
  },
  {
   "cell_type": "code",
   "execution_count": null,
   "id": "e6ccb5f7",
   "metadata": {},
   "outputs": [],
   "source": [
    "print('This is a string with an {}'.format('fox','brown','quick'))"
   ]
  },
  {
   "cell_type": "markdown",
   "id": "81be66ab",
   "metadata": {},
   "source": [
    "2. Inserted objects can be assigned keywords:"
   ]
  },
  {
   "cell_type": "code",
   "execution_count": null,
   "id": "8290814a",
   "metadata": {},
   "outputs": [],
   "source": [
    "print('First object: {a}, Second Object: {b}, Third Object: {c}'.format(a=1,b='Two',c=12.3))"
   ]
  },
  {
   "cell_type": "markdown",
   "id": "77f46a21",
   "metadata": {},
   "source": [
    "3. Inserted object can be reused, avoiding duplication:"
   ]
  },
  {
   "cell_type": "code",
   "execution_count": null,
   "id": "2dcf4ed7",
   "metadata": {},
   "outputs": [],
   "source": [
    "print('A %s saved is a %s earned.' %('penny','penny'))\n",
    "# vs\n",
    "print(\"A {p} saved is a {p} earned.\".format(p='penny'))"
   ]
  },
  {
   "cell_type": "markdown",
   "id": "5b64e7cb",
   "metadata": {},
   "source": [
    "## Alignment, padding and precision with ``.format``\n",
    "Within the curly braces you can assign fields lengths, left/right alignments, rounding parameters and more"
   ]
  },
  {
   "cell_type": "code",
   "execution_count": null,
   "id": "f2f05ad6",
   "metadata": {},
   "outputs": [],
   "source": [
    "print('{0:8} | {1:9}'.format('Fruit', 'Quantity'))\n",
    "print('{0:8} | {1:9}'.format('Apples', 3.))\n",
    "print('{0:8} | {1:9}'.format('Oranges', 10))"
   ]
  },
  {
   "cell_type": "markdown",
   "id": "984fe125",
   "metadata": {},
   "source": [
    "By default, ``.format()`` aligns text to the left, numbers to the right. You can pass an optional ``<``, ``^``, or ``>`` to set a left, center or right alignment:"
   ]
  },
  {
   "cell_type": "code",
   "execution_count": null,
   "id": "6288bc24",
   "metadata": {},
   "outputs": [],
   "source": [
    "print('{0:<8} | {1:^8} | {2:>8}'.format('Left', 'Center', 'Right'))\n",
    "print('{0:<8} | {1:^8} | {2:>8}'.format(11,22,33))"
   ]
  },
  {
   "cell_type": "markdown",
   "id": "99198fae",
   "metadata": {},
   "source": [
    "You can precede the alignment operator with a padding character"
   ]
  },
  {
   "cell_type": "code",
   "execution_count": null,
   "id": "0ee44831",
   "metadata": {},
   "outputs": [],
   "source": [
    "print('{0:=<8} | {1:-^8}'.format('Left','Center','Right'))\n",
    "print('{0:=<8} | {1:-^8} | {2:.>8}'.format(11,22,33))"
   ]
  },
  {
   "cell_type": "markdown",
   "id": "899952de",
   "metadata": {},
   "source": [
    "Field widths and float precision are handled in a way similar to placeholders. The following two print statements are equivalent:"
   ]
  },
  {
   "cell_type": "code",
   "execution_count": null,
   "id": "f5665f1c",
   "metadata": {},
   "outputs": [],
   "source": [
    "print('This is my ten-character, two-decimal number:%10.2f' %13.579)\n",
    "print('This is my ten-charcter, two-decimal number:{0:10.2f}'.format(13.579))"
   ]
  },
  {
   "cell_type": "markdown",
   "id": "bffe889a",
   "metadata": {},
   "source": [
    "Note that there are 5 spaces following the colon, and 5 characters taken up by 13.58, for a total of ten characters.\n",
    "\n",
    "For more information on the string ``.format() method visit https://docs.python.org/3/library/string.html#formatstrings\n",
    "\n",
    "## Formatted String Literals (f-strings)\n",
    "Introduced in Python 3.6, f-strings offer several benefits over the older ``.format()`` string method described above. For one, you can bring outside variables immediately into the string rather than pass them as arguments through ``.format(var)``."
   ]
  },
  {
   "cell_type": "code",
   "execution_count": null,
   "id": "e289d828",
   "metadata": {},
   "outputs": [],
   "source": [
    "name = 'Fred'\n",
    "\n",
    "print(f\"He said his name is {name!r}\")"
   ]
  },
  {
   "cell_type": "markdown",
   "id": "043a3c01",
   "metadata": {},
   "source": [
    "### Float formatting follows ``\"result: {value:{width}.{precision}}\"``\n",
    "Where with the ``.format()`` method you might see ``{value:10.4f}``, with f-strings this can become ``{value:{10}.{6}}"
   ]
  },
  {
   "cell_type": "code",
   "execution_count": null,
   "id": "5d37fb2b",
   "metadata": {},
   "outputs": [],
   "source": [
    "num = 23.45678\n",
    "print(\"My 10 character, four decimal number is:{0:10.4f}\".format(num))\n",
    "print(f\"My 10 character, four decimal number  is:{num:10.4f}\")"
   ]
  },
  {
   "cell_type": "markdown",
   "id": "12269bcd",
   "metadata": {},
   "source": [
    "If this becomes important, you can always use ``.format()`` method syntax inside an f-string:"
   ]
  },
  {
   "cell_type": "code",
   "execution_count": null,
   "id": "d255db27",
   "metadata": {},
   "outputs": [],
   "source": [
    "num = 23.45\n",
    "print(\"My 10 character, four decimal number is:{0:10.4f}\".format(num))\n",
    "print(f\"My 10 character, four decimal number is:{num:10.4f}\")"
   ]
  },
  {
   "cell_type": "markdown",
   "id": "63102f7a",
   "metadata": {},
   "source": [
    "For more info on formatted strings literals visit https://docs.python.org/3/reference/lexical_analysis.html#f-strings"
   ]
  }
 ],
 "metadata": {
  "language_info": {
   "name": "python"
  }
 },
 "nbformat": 4,
 "nbformat_minor": 5
}
