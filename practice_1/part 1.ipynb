{
 "cells": [
  {
   "cell_type": "markdown",
   "id": "ccad21e7",
   "metadata": {
    "vscode": {
     "languageId": "plaintext"
    }
   },
   "source": [
    "# Numbers"
   ]
  }
 ],
 "metadata": {
  "language_info": {
   "name": "python"
  }
 },
 "nbformat": 4,
 "nbformat_minor": 5
}
